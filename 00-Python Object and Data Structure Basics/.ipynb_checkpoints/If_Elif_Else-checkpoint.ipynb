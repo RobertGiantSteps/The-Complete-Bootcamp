{
 "cells": [
  {
   "cell_type": "markdown",
   "id": "22d6ef13",
   "metadata": {},
   "source": [
    "## if \n",
    "## elif\n",
    "## else\n",
    "\n",
    "La sintaxis del  control de flujo tenemos que usar : y luego una indentación \n",
    "\n",
    "Sintaxis básica de sentencia if\n",
    "\n",
    "      if some_condition:\n",
    "         execute_some_code\n",
    "      elif some_other_condition:\n",
    "         do something differente\n",
    "      else:\n",
    "         do something else"
   ]
  },
  {
   "cell_type": "code",
   "execution_count": 1,
   "id": "0186ee48",
   "metadata": {},
   "outputs": [
    {
     "name": "stdout",
     "output_type": "stream",
     "text": [
      "Its True¡\n"
     ]
    }
   ],
   "source": [
    "if True:\n",
    "    print('Its True¡')"
   ]
  },
  {
   "cell_type": "code",
   "execution_count": 2,
   "id": "31ff1903",
   "metadata": {},
   "outputs": [
    {
     "name": "stdout",
     "output_type": "stream",
     "text": [
      "Its True baby\n"
     ]
    }
   ],
   "source": [
    "if 3 > 2:\n",
    "    print('Its True baby')"
   ]
  },
  {
   "cell_type": "code",
   "execution_count": 4,
   "id": "5a4c8bbe",
   "metadata": {},
   "outputs": [],
   "source": [
    "hungry = False\n",
    "\n",
    "if hungry:\n",
    "    print('FEED ME')"
   ]
  },
  {
   "cell_type": "code",
   "execution_count": 7,
   "id": "ff3a14ed",
   "metadata": {},
   "outputs": [
    {
     "name": "stdout",
     "output_type": "stream",
     "text": [
      "Im not hungry\n"
     ]
    }
   ],
   "source": [
    "if hungry:\n",
    "    print('FEED ME')\n",
    "else:\n",
    "    print('Im not hungry')"
   ]
  },
  {
   "cell_type": "code",
   "execution_count": 11,
   "id": "5656dfe6",
   "metadata": {},
   "outputs": [
    {
     "name": "stdout",
     "output_type": "stream",
     "text": [
      "Welcome to the store\n"
     ]
    }
   ],
   "source": [
    "loc = 'Store'\n",
    "\n",
    "if loc == 'Auto Shop':\n",
    "    print('Cars are cool')\n",
    "elif loc == 'Bank':\n",
    "    print('Money is cool')\n",
    "elif loc == 'Store':\n",
    "    print('Welcome to the store')\n",
    "else:\n",
    "    print(' do not know much.')"
   ]
  },
  {
   "cell_type": "code",
   "execution_count": 12,
   "id": "77c580b2",
   "metadata": {},
   "outputs": [
    {
     "name": "stdout",
     "output_type": "stream",
     "text": [
      "Hello Sammy\n"
     ]
    }
   ],
   "source": [
    "name = 'Sammy'\n",
    "\n",
    "if name == 'Frankie':\n",
    "    print('Hello Frankie')\n",
    "elif name == 'Sammy':\n",
    "    print('Hello Sammy')\n",
    "else:\n",
    "    print('What is your name ?')"
   ]
  },
  {
   "cell_type": "code",
   "execution_count": null,
   "id": "d83f169c",
   "metadata": {},
   "outputs": [],
   "source": []
  }
 ],
 "metadata": {
  "kernelspec": {
   "display_name": "Python 3 (ipykernel)",
   "language": "python",
   "name": "python3"
  },
  "language_info": {
   "codemirror_mode": {
    "name": "ipython",
    "version": 3
   },
   "file_extension": ".py",
   "mimetype": "text/x-python",
   "name": "python",
   "nbconvert_exporter": "python",
   "pygments_lexer": "ipython3",
   "version": "3.11.4"
  }
 },
 "nbformat": 4,
 "nbformat_minor": 5
}
