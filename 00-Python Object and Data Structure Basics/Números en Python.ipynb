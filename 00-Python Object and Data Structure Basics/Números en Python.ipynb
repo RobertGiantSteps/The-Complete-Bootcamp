{
 "cells": [
  {
   "cell_type": "markdown",
   "id": "9696aeb6",
   "metadata": {},
   "source": [
    "Si queremos hacer una suma "
   ]
  },
  {
   "cell_type": "code",
   "execution_count": 1,
   "id": "65edbf0a",
   "metadata": {},
   "outputs": [
    {
     "data": {
      "text/plain": [
       "3"
      ]
     },
     "execution_count": 1,
     "metadata": {},
     "output_type": "execute_result"
    }
   ],
   "source": [
    "2+1"
   ]
  },
  {
   "cell_type": "markdown",
   "id": "b41f2dac",
   "metadata": {},
   "source": [
    "Si queremos restar :"
   ]
  },
  {
   "cell_type": "code",
   "execution_count": 2,
   "id": "3d04ca59",
   "metadata": {},
   "outputs": [
    {
     "data": {
      "text/plain": [
       "1"
      ]
     },
     "execution_count": 2,
     "metadata": {},
     "output_type": "execute_result"
    }
   ],
   "source": [
    "2-1"
   ]
  },
  {
   "cell_type": "markdown",
   "id": "2737910c",
   "metadata": {},
   "source": [
    "Para multiplicar:\n"
   ]
  },
  {
   "cell_type": "code",
   "execution_count": 3,
   "id": "397a3d25",
   "metadata": {},
   "outputs": [
    {
     "data": {
      "text/plain": [
       "4"
      ]
     },
     "execution_count": 3,
     "metadata": {},
     "output_type": "execute_result"
    }
   ],
   "source": [
    "2*2"
   ]
  },
  {
   "cell_type": "markdown",
   "id": "98b26d9a",
   "metadata": {},
   "source": [
    "División"
   ]
  },
  {
   "cell_type": "code",
   "execution_count": 4,
   "id": "6444f47a",
   "metadata": {},
   "outputs": [
    {
     "data": {
      "text/plain": [
       "1.5"
      ]
     },
     "execution_count": 4,
     "metadata": {},
     "output_type": "execute_result"
    }
   ],
   "source": [
    "3/2\n"
   ]
  },
  {
   "cell_type": "markdown",
   "id": "a17fa17d",
   "metadata": {},
   "source": [
    "MODULO or MOD Operator"
   ]
  },
  {
   "cell_type": "markdown",
   "id": "156bace6",
   "metadata": {},
   "source": [
    "Basicamente el modulo lo que hace es que devuelve el resto despues de una división"
   ]
  },
  {
   "cell_type": "code",
   "execution_count": 5,
   "id": "1bed3e8e",
   "metadata": {},
   "outputs": [
    {
     "data": {
      "text/plain": [
       "1.75"
      ]
     },
     "execution_count": 5,
     "metadata": {},
     "output_type": "execute_result"
    }
   ],
   "source": [
    "7 / 4"
   ]
  },
  {
   "cell_type": "markdown",
   "id": "ec928320",
   "metadata": {},
   "source": [
    "Entonces vamos a decir 7 modulo 4 devuelve 3 "
   ]
  },
  {
   "cell_type": "code",
   "execution_count": 6,
   "id": "e7f5be9c",
   "metadata": {},
   "outputs": [
    {
     "data": {
      "text/plain": [
       "3"
      ]
     },
     "execution_count": 6,
     "metadata": {},
     "output_type": "execute_result"
    }
   ],
   "source": [
    "7 % 4\n"
   ]
  },
  {
   "cell_type": "code",
   "execution_count": 7,
   "id": "16c61786",
   "metadata": {},
   "outputs": [
    {
     "data": {
      "text/plain": [
       "0"
      ]
     },
     "execution_count": 7,
     "metadata": {},
     "output_type": "execute_result"
    }
   ],
   "source": [
    "50 % 5\n"
   ]
  },
  {
   "cell_type": "markdown",
   "id": "4153c1fb",
   "metadata": {},
   "source": [
    "Esta también es una manera de saber y verificar si un número es divisible de manera equitativa por otro .Esta es una forma conveniente de verificar si un numero es par o no ."
   ]
  },
  {
   "cell_type": "markdown",
   "id": "e05c845f",
   "metadata": {},
   "source": [
    "Por ejemplo tenemos un numero impar 23 y queremos saber si es par o impar lo que hariamos seria :"
   ]
  },
  {
   "cell_type": "code",
   "execution_count": 8,
   "id": "f144fbc0",
   "metadata": {},
   "outputs": [
    {
     "data": {
      "text/plain": [
       "1"
      ]
     },
     "execution_count": 8,
     "metadata": {},
     "output_type": "execute_result"
    }
   ],
   "source": [
    "23 % 2"
   ]
  },
  {
   "cell_type": "markdown",
   "id": "1506e65f",
   "metadata": {},
   "source": [
    "Sabemos entonces que si el resultado del modulo nos da algo distinto de 0,entonces tenemos un número impar.Para comprobar que un numero es par el resultado del resto debe ser 0"
   ]
  },
  {
   "cell_type": "code",
   "execution_count": 9,
   "id": "b14c1342",
   "metadata": {},
   "outputs": [
    {
     "data": {
      "text/plain": [
       "0"
      ]
     },
     "execution_count": 9,
     "metadata": {},
     "output_type": "execute_result"
    }
   ],
   "source": [
    "20 % 2"
   ]
  },
  {
   "cell_type": "markdown",
   "id": "60d70294",
   "metadata": {},
   "source": [
    "Potencias:"
   ]
  },
  {
   "cell_type": "code",
   "execution_count": 10,
   "id": "2eaa91b2",
   "metadata": {},
   "outputs": [
    {
     "data": {
      "text/plain": [
       "8"
      ]
     },
     "execution_count": 10,
     "metadata": {},
     "output_type": "execute_result"
    }
   ],
   "source": [
    "2 ** 3"
   ]
  },
  {
   "cell_type": "markdown",
   "id": "f4986573",
   "metadata": {},
   "source": [
    "Orden de las operaciones:\n"
   ]
  },
  {
   "cell_type": "code",
   "execution_count": 11,
   "id": "b84f6394",
   "metadata": {},
   "outputs": [
    {
     "data": {
      "text/plain": [
       "105"
      ]
     },
     "execution_count": 11,
     "metadata": {},
     "output_type": "execute_result"
    }
   ],
   "source": [
    "2 + 10 * 10 + 3"
   ]
  },
  {
   "cell_type": "markdown",
   "id": "5a6afeb4",
   "metadata": {},
   "source": [
    "Si quisieramos cambiar el orden de las operaciones tendriaos que usar los paréntesis ya que ahora se esta calculando la multiplicación primero ."
   ]
  },
  {
   "cell_type": "code",
   "execution_count": 12,
   "id": "736dea98",
   "metadata": {},
   "outputs": [
    {
     "data": {
      "text/plain": [
       "156"
      ]
     },
     "execution_count": 12,
     "metadata": {},
     "output_type": "execute_result"
    }
   ],
   "source": [
    "(2 + 10) * (10 + 3)"
   ]
  },
  {
   "cell_type": "code",
   "execution_count": null,
   "id": "5d0831fd",
   "metadata": {},
   "outputs": [],
   "source": []
  }
 ],
 "metadata": {
  "kernelspec": {
   "display_name": "Python 3 (ipykernel)",
   "language": "python",
   "name": "python3"
  },
  "language_info": {
   "codemirror_mode": {
    "name": "ipython",
    "version": 3
   },
   "file_extension": ".py",
   "mimetype": "text/x-python",
   "name": "python",
   "nbconvert_exporter": "python",
   "pygments_lexer": "ipython3",
   "version": "3.10.9"
  }
 },
 "nbformat": 4,
 "nbformat_minor": 5
}
