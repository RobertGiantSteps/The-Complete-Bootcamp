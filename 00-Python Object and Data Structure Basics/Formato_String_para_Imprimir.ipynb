{
 "cells": [
  {
   "cell_type": "markdown",
   "id": "b5e3a0a2",
   "metadata": {},
   "source": [
    "## Formating with the .format() method\n",
    "\n",
    "A good way to format objects into your strings for print  statements is with the string .format()\n",
    "method. The syntax is:\n",
    "\n",
    "'STRING here {} the also {}'.format('something1',sometghing2')\n",
    "\n",
    "Una buena manera de formatear objetos en sus cadenas para declaraciones impresas es con la cadena .format()\n",
    "método. La sintaxis es:\n",
    "\n",
    "'STRING aquí {} el también {}'.format('algo1',algo2')"
   ]
  },
  {
   "cell_type": "code",
   "execution_count": 2,
   "id": "2a508019",
   "metadata": {},
   "outputs": [
    {
     "name": "stdout",
     "output_type": "stream",
     "text": [
      "this is a string INSERTADO\n"
     ]
    }
   ],
   "source": [
    "print('this is a string {}'.format('INSERTADO'))"
   ]
  },
  {
   "cell_type": "markdown",
   "id": "e23a5347",
   "metadata": {},
   "source": [
    "Una de las ventajas de esta funcion es que se pueden insertar en los strings por posición de índice"
   ]
  },
  {
   "cell_type": "code",
   "execution_count": 3,
   "id": "3c214ae2",
   "metadata": {},
   "outputs": [
    {
     "name": "stdout",
     "output_type": "stream",
     "text": [
      "The fox brown quick\n"
     ]
    }
   ],
   "source": [
    "print('The {} {} {}'.format('fox', 'brown', 'quick'))"
   ]
  },
  {
   "cell_type": "markdown",
   "id": "aec18571",
   "metadata": {},
   "source": [
    "Lo que sucede es que basicamente que el formato va a insertar los strings en el mismo orden,este orden se puede cambiar solo0 utilizando los indices en los qaue los queremos reflejar "
   ]
  },
  {
   "cell_type": "code",
   "execution_count": 4,
   "id": "b9f22e46",
   "metadata": {},
   "outputs": [
    {
     "name": "stdout",
     "output_type": "stream",
     "text": [
      "The quick brown fox\n"
     ]
    }
   ],
   "source": [
    "print('The {2} {1} {0}'.format('fox', 'brown', 'quick'))"
   ]
  },
  {
   "cell_type": "code",
   "execution_count": 5,
   "id": "a75cb866",
   "metadata": {},
   "outputs": [
    {
     "name": "stdout",
     "output_type": "stream",
     "text": [
      "The fox fox fox\n"
     ]
    }
   ],
   "source": [
    "print('The {0} {0} {0}'.format('fox', 'brown', 'quick'))"
   ]
  },
  {
   "cell_type": "markdown",
   "id": "4408229f",
   "metadata": {},
   "source": [
    "También podemos crear palabras claves(llaves) que sean mas descriptivas sería como una asignación de variable "
   ]
  },
  {
   "cell_type": "code",
   "execution_count": 6,
   "id": "e25a3604",
   "metadata": {},
   "outputs": [
    {
     "name": "stdout",
     "output_type": "stream",
     "text": [
      "The quick brown fox\n"
     ]
    }
   ],
   "source": [
    "print('The {q} {b} {f}'.format(f = 'fox', b = 'brown', q = 'quick'))"
   ]
  },
  {
   "cell_type": "markdown",
   "id": "9ef53b1d",
   "metadata": {},
   "source": [
    "## Float formatting follows \"{value:width.precision f}\"\n",
    "El formato flotante sigue \"{valor: ancho.precisión f}\""
   ]
  },
  {
   "cell_type": "code",
   "execution_count": 7,
   "id": "7f9e0f2a",
   "metadata": {},
   "outputs": [],
   "source": [
    "result = 100 / 777"
   ]
  },
  {
   "cell_type": "code",
   "execution_count": 8,
   "id": "a459eef4",
   "metadata": {},
   "outputs": [
    {
     "data": {
      "text/plain": [
       "0.1287001287001287"
      ]
     },
     "execution_count": 8,
     "metadata": {},
     "output_type": "execute_result"
    }
   ],
   "source": [
    "result"
   ]
  },
  {
   "cell_type": "markdown",
   "id": "808a76c7",
   "metadata": {},
   "source": [
    "Podemos cambiar al nivel de precisión  incluso cambiuar el ancho del número en sí "
   ]
  },
  {
   "cell_type": "code",
   "execution_count": 9,
   "id": "8f9d1460",
   "metadata": {},
   "outputs": [
    {
     "name": "stdout",
     "output_type": "stream",
     "text": [
      "The result was 0.129\n"
     ]
    }
   ],
   "source": [
    "print('The result was {r:1.3f}'.format(r = result))"
   ]
  },
  {
   "cell_type": "markdown",
   "id": "bfb7586d",
   "metadata": {},
   "source": [
    "El 8 se redondea hacia arriba por esto nos devuelve este número 9 es importante señalar que el width dentro de la sintaxis va a ser el largo que va a tener el número incluyendo los espacios en blanco ."
   ]
  },
  {
   "cell_type": "code",
   "execution_count": 10,
   "id": "f5509d57",
   "metadata": {},
   "outputs": [
    {
     "name": "stdout",
     "output_type": "stream",
     "text": [
      "The result was      0.129\n"
     ]
    }
   ],
   "source": [
    "print('The result was {r:10.3f}'.format(r = result))"
   ]
  },
  {
   "cell_type": "markdown",
   "id": "24e77a83",
   "metadata": {},
   "source": [
    "Aqui se pueden ver los espacios en blanco que qudan en la impresión. "
   ]
  },
  {
   "cell_type": "markdown",
   "id": "a0bd9560",
   "metadata": {},
   "source": [
    "## F Strings "
   ]
  },
  {
   "cell_type": "markdown",
   "id": "4ec4f45e",
   "metadata": {},
   "source": [
    "Estos son literales de cadenas formateados "
   ]
  },
  {
   "cell_type": "code",
   "execution_count": null,
   "id": "7304b11f",
   "metadata": {},
   "outputs": [],
   "source": []
  },
  {
   "cell_type": "code",
   "execution_count": null,
   "id": "b2aa0b71",
   "metadata": {},
   "outputs": [],
   "source": []
  },
  {
   "cell_type": "code",
   "execution_count": null,
   "id": "4c2a8279",
   "metadata": {},
   "outputs": [],
   "source": []
  },
  {
   "cell_type": "code",
   "execution_count": 11,
   "id": "c4a1cb7c",
   "metadata": {},
   "outputs": [],
   "source": [
    "name = 'Jose'"
   ]
  },
  {
   "cell_type": "code",
   "execution_count": 13,
   "id": "0f09cf0f",
   "metadata": {},
   "outputs": [
    {
     "name": "stdout",
     "output_type": "stream",
     "text": [
      "Hello, his name is Jose\n"
     ]
    }
   ],
   "source": [
    "print(f'Hello, his name is {name}')"
   ]
  },
  {
   "cell_type": "code",
   "execution_count": 14,
   "id": "e7cef1a7",
   "metadata": {},
   "outputs": [],
   "source": [
    "name = 'Sam'\n",
    "age = 3"
   ]
  },
  {
   "cell_type": "code",
   "execution_count": 17,
   "id": "d1e38c4c",
   "metadata": {},
   "outputs": [
    {
     "name": "stdout",
     "output_type": "stream",
     "text": [
      "His name is Sam and his age is 3 year old.\n"
     ]
    }
   ],
   "source": [
    "print(f'His name is {name} and his age is {age} year old.')"
   ]
  },
  {
   "cell_type": "code",
   "execution_count": null,
   "id": "5b31799f",
   "metadata": {},
   "outputs": [],
   "source": []
  }
 ],
 "metadata": {
  "kernelspec": {
   "display_name": "Python 3 (ipykernel)",
   "language": "python",
   "name": "python3"
  },
  "language_info": {
   "codemirror_mode": {
    "name": "ipython",
    "version": 3
   },
   "file_extension": ".py",
   "mimetype": "text/x-python",
   "name": "python",
   "nbconvert_exporter": "python",
   "pygments_lexer": "ipython3",
   "version": "3.11.4"
  }
 },
 "nbformat": 4,
 "nbformat_minor": 5
}
