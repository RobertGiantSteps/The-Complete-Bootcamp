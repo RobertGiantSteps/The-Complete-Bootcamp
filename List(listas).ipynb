{
 "cells": [
  {
   "cell_type": "markdown",
   "id": "a70657f5",
   "metadata": {},
   "source": [
    "## List(listas) "
   ]
  },
  {
   "cell_type": "markdown",
   "id": "a747137e",
   "metadata": {},
   "source": [
    "Las listas son ordenadas secuencias que pueden contener variedad de tipos de objetos su sintaxis es con [] y estos objetos estan separados por ',' para separar los objetos de la lista.Admiten indexación y slicing.Son mutables a diferencia de los strings str."
   ]
  },
  {
   "cell_type": "code",
   "execution_count": 1,
   "id": "40191fb4",
   "metadata": {},
   "outputs": [],
   "source": [
    "my_list = [1,2,3]"
   ]
  },
  {
   "cell_type": "code",
   "execution_count": 2,
   "id": "013476a9",
   "metadata": {},
   "outputs": [],
   "source": [
    "my_list = ['STRING',100,23.2 ]"
   ]
  },
  {
   "cell_type": "markdown",
   "id": "4f131575",
   "metadata": {},
   "source": [
    "Se puede saber la longitud de una lista con la función len()"
   ]
  },
  {
   "cell_type": "code",
   "execution_count": 3,
   "id": "037c4e77",
   "metadata": {},
   "outputs": [
    {
     "data": {
      "text/plain": [
       "3"
      ]
     },
     "execution_count": 3,
     "metadata": {},
     "output_type": "execute_result"
    }
   ],
   "source": [
    "len(my_list)"
   ]
  },
  {
   "cell_type": "markdown",
   "id": "35f6c8b2",
   "metadata": {},
   "source": [
    "Al ser la lista un secuencia ordenada de elementos también permite la indexación y slicing y funciona igual que una cadena str"
   ]
  },
  {
   "cell_type": "code",
   "execution_count": 4,
   "id": "a682ce28",
   "metadata": {},
   "outputs": [],
   "source": [
    "mylist = ['one','two','three']"
   ]
  },
  {
   "cell_type": "code",
   "execution_count": 5,
   "id": "27932043",
   "metadata": {},
   "outputs": [
    {
     "data": {
      "text/plain": [
       "'one'"
      ]
     },
     "execution_count": 5,
     "metadata": {},
     "output_type": "execute_result"
    }
   ],
   "source": [
    "mylist[0]"
   ]
  },
  {
   "cell_type": "code",
   "execution_count": 6,
   "id": "32ec124c",
   "metadata": {},
   "outputs": [
    {
     "data": {
      "text/plain": [
       "['two', 'three']"
      ]
     },
     "execution_count": 6,
     "metadata": {},
     "output_type": "execute_result"
    }
   ],
   "source": [
    "mylist[1:]"
   ]
  },
  {
   "cell_type": "markdown",
   "id": "9fd4ed2d",
   "metadata": {},
   "source": [
    "Es posible también concatenar listas"
   ]
  },
  {
   "cell_type": "code",
   "execution_count": 7,
   "id": "9955ec9b",
   "metadata": {},
   "outputs": [],
   "source": [
    "another_list =['four','five']"
   ]
  },
  {
   "cell_type": "code",
   "execution_count": 8,
   "id": "3198e87f",
   "metadata": {},
   "outputs": [
    {
     "data": {
      "text/plain": [
       "['one', 'two', 'three', 'four', 'five']"
      ]
     },
     "execution_count": 8,
     "metadata": {},
     "output_type": "execute_result"
    }
   ],
   "source": [
    " mylist + another_list"
   ]
  },
  {
   "cell_type": "markdown",
   "id": "02039280",
   "metadata": {},
   "source": [
    " Para salvar esta nueva lista tenemos que asignarla a una variable el resultado de la concatenación "
   ]
  },
  {
   "cell_type": "code",
   "execution_count": 9,
   "id": "732e9e2d",
   "metadata": {},
   "outputs": [],
   "source": [
    "new_list = mylist + another_list"
   ]
  },
  {
   "cell_type": "code",
   "execution_count": 10,
   "id": "8468e2cd",
   "metadata": {},
   "outputs": [
    {
     "data": {
      "text/plain": [
       "['one', 'two', 'three', 'four', 'five']"
      ]
     },
     "execution_count": 10,
     "metadata": {},
     "output_type": "execute_result"
    }
   ],
   "source": [
    "new_list"
   ]
  },
  {
   "cell_type": "code",
   "execution_count": 11,
   "id": "309f10cd",
   "metadata": {},
   "outputs": [
    {
     "data": {
      "text/plain": [
       "'ONE'"
      ]
     },
     "execution_count": 11,
     "metadata": {},
     "output_type": "execute_result"
    }
   ],
   "source": [
    "new_list[0].upper()"
   ]
  },
  {
   "cell_type": "code",
   "execution_count": 12,
   "id": "ec3f341e",
   "metadata": {},
   "outputs": [],
   "source": [
    "new_list[0]= 'ONE ALL CAPS'"
   ]
  },
  {
   "cell_type": "code",
   "execution_count": 13,
   "id": "e8e72cec",
   "metadata": {},
   "outputs": [
    {
     "data": {
      "text/plain": [
       "['ONE ALL CAPS', 'two', 'three', 'four', 'five']"
      ]
     },
     "execution_count": 13,
     "metadata": {},
     "output_type": "execute_result"
    }
   ],
   "source": [
    "new_list"
   ]
  },
  {
   "cell_type": "markdown",
   "id": "0ce0291e",
   "metadata": {},
   "source": [
    "Los tipos de datos dentro de la lista pueden ser mutables como el ejemplo anterior "
   ]
  },
  {
   "cell_type": "code",
   "execution_count": 14,
   "id": "0d8044ab",
   "metadata": {},
   "outputs": [],
   "source": [
    "new_list[3] = 4"
   ]
  },
  {
   "cell_type": "code",
   "execution_count": 15,
   "id": "8496668d",
   "metadata": {},
   "outputs": [
    {
     "data": {
      "text/plain": [
       "['ONE ALL CAPS', 'two', 'three', 4, 'five']"
      ]
     },
     "execution_count": 15,
     "metadata": {},
     "output_type": "execute_result"
    }
   ],
   "source": [
    "new_list"
   ]
  },
  {
   "cell_type": "markdown",
   "id": "fd407fb3",
   "metadata": {},
   "source": [
    "Para agregar una elemento al final de la lista utilizando la función append()"
   ]
  },
  {
   "cell_type": "code",
   "execution_count": 16,
   "id": "d3e17726",
   "metadata": {},
   "outputs": [],
   "source": [
    "new_list.append('six')"
   ]
  },
  {
   "cell_type": "code",
   "execution_count": 17,
   "id": "2e0f0eff",
   "metadata": {},
   "outputs": [
    {
     "data": {
      "text/plain": [
       "['ONE ALL CAPS', 'two', 'three', 4, 'five', 'six']"
      ]
     },
     "execution_count": 17,
     "metadata": {},
     "output_type": "execute_result"
    }
   ],
   "source": [
    "new_list"
   ]
  },
  {
   "cell_type": "code",
   "execution_count": 18,
   "id": "c1017cfb",
   "metadata": {},
   "outputs": [],
   "source": [
    "new_list.append(7)"
   ]
  },
  {
   "cell_type": "code",
   "execution_count": 19,
   "id": "671090ea",
   "metadata": {},
   "outputs": [
    {
     "data": {
      "text/plain": [
       "['ONE ALL CAPS', 'two', 'three', 4, 'five', 'six', 7]"
      ]
     },
     "execution_count": 19,
     "metadata": {},
     "output_type": "execute_result"
    }
   ],
   "source": [
    "new_list"
   ]
  },
  {
   "cell_type": "markdown",
   "id": "8df8afe7",
   "metadata": {},
   "source": [
    "Para utilizar la eliminación de elementos de una lista usamos la función pop(), este metodo va a sacar un objeto del final de la lista.Esta función devuelve también el elemento que elimina del final de la lista."
   ]
  },
  {
   "cell_type": "code",
   "execution_count": 20,
   "id": "3cd50fb6",
   "metadata": {},
   "outputs": [
    {
     "data": {
      "text/plain": [
       "7"
      ]
     },
     "execution_count": 20,
     "metadata": {},
     "output_type": "execute_result"
    }
   ],
   "source": [
    "new_list.pop()"
   ]
  },
  {
   "cell_type": "code",
   "execution_count": 21,
   "id": "07eb5fc2",
   "metadata": {},
   "outputs": [
    {
     "data": {
      "text/plain": [
       "['ONE ALL CAPS', 'two', 'three', 4, 'five', 'six']"
      ]
     },
     "execution_count": 21,
     "metadata": {},
     "output_type": "execute_result"
    }
   ],
   "source": [
    "new_list"
   ]
  },
  {
   "cell_type": "markdown",
   "id": "75dac706",
   "metadata": {},
   "source": [
    "Para guardar el elemento eliminado del final de la lista:"
   ]
  },
  {
   "cell_type": "code",
   "execution_count": 23,
   "id": "88063ffc",
   "metadata": {},
   "outputs": [],
   "source": [
    "popped_item = new_list.pop()"
   ]
  },
  {
   "cell_type": "code",
   "execution_count": 24,
   "id": "68d2100a",
   "metadata": {},
   "outputs": [
    {
     "data": {
      "text/plain": [
       "'six'"
      ]
     },
     "execution_count": 24,
     "metadata": {},
     "output_type": "execute_result"
    }
   ],
   "source": [
    "popped_item "
   ]
  },
  {
   "cell_type": "markdown",
   "id": "9337f6ac",
   "metadata": {},
   "source": [
    "Si queremos eliminar un objeto con un indice específico, pasamos la posición del index especifico a la funcion pop()"
   ]
  },
  {
   "cell_type": "code",
   "execution_count": 25,
   "id": "ea830cd8",
   "metadata": {},
   "outputs": [
    {
     "data": {
      "text/plain": [
       "'ONE ALL CAPS'"
      ]
     },
     "execution_count": 25,
     "metadata": {},
     "output_type": "execute_result"
    }
   ],
   "source": [
    "new_list.pop(0)"
   ]
  },
  {
   "cell_type": "code",
   "execution_count": 26,
   "id": "5e29804e",
   "metadata": {},
   "outputs": [
    {
     "data": {
      "text/plain": [
       "['two', 'three', 4, 'five']"
      ]
     },
     "execution_count": 26,
     "metadata": {},
     "output_type": "execute_result"
    }
   ],
   "source": [
    "new_list"
   ]
  },
  {
   "cell_type": "markdown",
   "id": "d04bc921",
   "metadata": {},
   "source": [
    "Para Ordenar o revertir una lista sort() y revert()"
   ]
  },
  {
   "cell_type": "code",
   "execution_count": 27,
   "id": "a53b7fce",
   "metadata": {},
   "outputs": [],
   "source": [
    "new_list = ['a','e','x','b','c']\n",
    "num_list = [4,1,8,3]"
   ]
  },
  {
   "cell_type": "code",
   "execution_count": 28,
   "id": "23d49e4a",
   "metadata": {},
   "outputs": [],
   "source": [
    "new_list.sort()"
   ]
  },
  {
   "cell_type": "code",
   "execution_count": 29,
   "id": "34824060",
   "metadata": {},
   "outputs": [
    {
     "data": {
      "text/plain": [
       "['a', 'b', 'c', 'e', 'x']"
      ]
     },
     "execution_count": 29,
     "metadata": {},
     "output_type": "execute_result"
    }
   ],
   "source": [
    "new_list"
   ]
  },
  {
   "cell_type": "markdown",
   "id": "7d7dadf2",
   "metadata": {},
   "source": [
    "El metodo sort() no devuelve nada la que va hacer es ordenar la lista.Por tanto no podemos asignarle el valor a una varible pues no devueelve nada y seria  NoneType "
   ]
  },
  {
   "cell_type": "markdown",
   "id": "4e11652d",
   "metadata": {},
   "source": [
    "El objeto None se puede usar para indicar que no tiene ningun valor y muchas veces se usa como marcador de posición (placeholder), pero realmente lo que es el valor de una función o método que en realidad no devuelve nada."
   ]
  },
  {
   "cell_type": "code",
   "execution_count": 30,
   "id": "38f2cfbd",
   "metadata": {},
   "outputs": [],
   "source": [
    "new_list.sort()\n",
    "my_sorted_list = new_list"
   ]
  },
  {
   "cell_type": "code",
   "execution_count": 31,
   "id": "9a3e3bee",
   "metadata": {},
   "outputs": [
    {
     "data": {
      "text/plain": [
       "['a', 'b', 'c', 'e', 'x']"
      ]
     },
     "execution_count": 31,
     "metadata": {},
     "output_type": "execute_result"
    }
   ],
   "source": [
    "my_sorted_list"
   ]
  },
  {
   "cell_type": "code",
   "execution_count": 32,
   "id": "efc0a20e",
   "metadata": {},
   "outputs": [],
   "source": [
    "num_list.sort()"
   ]
  },
  {
   "cell_type": "code",
   "execution_count": 33,
   "id": "5366641c",
   "metadata": {},
   "outputs": [
    {
     "data": {
      "text/plain": [
       "[1, 3, 4, 8]"
      ]
     },
     "execution_count": 33,
     "metadata": {},
     "output_type": "execute_result"
    }
   ],
   "source": [
    "num_list"
   ]
  },
  {
   "cell_type": "markdown",
   "id": "e26fc236",
   "metadata": {},
   "source": [
    "Para invertir todos los elemtos en una lista usamos reverse()"
   ]
  },
  {
   "cell_type": "code",
   "execution_count": 34,
   "id": "fb6cdb31",
   "metadata": {},
   "outputs": [],
   "source": [
    "num_list.reverse()"
   ]
  },
  {
   "cell_type": "code",
   "execution_count": 35,
   "id": "7c0dee15",
   "metadata": {},
   "outputs": [
    {
     "data": {
      "text/plain": [
       "[8, 4, 3, 1]"
      ]
     },
     "execution_count": 35,
     "metadata": {},
     "output_type": "execute_result"
    }
   ],
   "source": [
    "num_list"
   ]
  },
  {
   "cell_type": "code",
   "execution_count": null,
   "id": "20c1bde3",
   "metadata": {},
   "outputs": [],
   "source": []
  }
 ],
 "metadata": {
  "kernelspec": {
   "display_name": "Python 3 (ipykernel)",
   "language": "python",
   "name": "python3"
  },
  "language_info": {
   "codemirror_mode": {
    "name": "ipython",
    "version": 3
   },
   "file_extension": ".py",
   "mimetype": "text/x-python",
   "name": "python",
   "nbconvert_exporter": "python",
   "pygments_lexer": "ipython3",
   "version": "3.11.4"
  }
 },
 "nbformat": 4,
 "nbformat_minor": 5
}
