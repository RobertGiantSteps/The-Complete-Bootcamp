{
 "cells": [
  {
   "cell_type": "markdown",
   "id": "2145e7f1",
   "metadata": {},
   "source": [
    "Los diccionarios son mapeos NO ordenados para almacenar objetos a diferencia de las listas que son ordenadas,utiliza la estructura {clave:valor} este tipo de par de valores permite a los usuarios a formar objetos rapidamente sin necesidad de conocer una ubicación de indice ,simplemente se llama la clave y devuelve el valor \n",
    "{'key1':'value1','key2':'value2'} Ante la pregunta de cuando utilizar una lista y cuando usar un diccionario,el diccionario devuelve un objeto asociado a una clave,son desordenados yno pueden ser ordenados, las listas devuelven un objeto por su localización en una secuencia ordenada que puede ser indexada o partida (slicing)"
   ]
  },
  {
   "cell_type": "code",
   "execution_count": 5,
   "id": "51139890",
   "metadata": {},
   "outputs": [],
   "source": [
    "my_dict = {'key1':'value1','key2':'value2'}"
   ]
  },
  {
   "cell_type": "code",
   "execution_count": 6,
   "id": "c13f5ccf",
   "metadata": {},
   "outputs": [
    {
     "data": {
      "text/plain": [
       "{'key1': 'value1', 'key2': 'value2'}"
      ]
     },
     "execution_count": 6,
     "metadata": {},
     "output_type": "execute_result"
    }
   ],
   "source": [
    "my_dict"
   ]
  },
  {
   "cell_type": "markdown",
   "id": "22dcad67",
   "metadata": {},
   "source": [
    "Para acceder a los valores "
   ]
  },
  {
   "cell_type": "code",
   "execution_count": 7,
   "id": "4b9184b8",
   "metadata": {},
   "outputs": [
    {
     "data": {
      "text/plain": [
       "'value1'"
      ]
     },
     "execution_count": 7,
     "metadata": {},
     "output_type": "execute_result"
    }
   ],
   "source": [
    "my_dict['key1']"
   ]
  },
  {
   "cell_type": "code",
   "execution_count": 8,
   "id": "1a6e6f87",
   "metadata": {},
   "outputs": [],
   "source": [
    "prices_lookup = {'apple':2.99,'oranges':1.99,'milk':5.80}"
   ]
  },
  {
   "cell_type": "code",
   "execution_count": 9,
   "id": "b15c85dd",
   "metadata": {},
   "outputs": [
    {
     "data": {
      "text/plain": [
       "{'apple': 2.99, 'oranges': 1.99, 'milk': 5.8}"
      ]
     },
     "execution_count": 9,
     "metadata": {},
     "output_type": "execute_result"
    }
   ],
   "source": [
    "prices_lookup"
   ]
  },
  {
   "cell_type": "code",
   "execution_count": 10,
   "id": "848ab786",
   "metadata": {},
   "outputs": [
    {
     "data": {
      "text/plain": [
       "2.99"
      ]
     },
     "execution_count": 10,
     "metadata": {},
     "output_type": "execute_result"
    }
   ],
   "source": [
    "prices_lookup['apple']"
   ]
  },
  {
   "cell_type": "markdown",
   "id": "f1318a7c",
   "metadata": {},
   "source": [
    "Los diccionarios pueden tener diferentes tipos de datos dentro hasta otros diccionarios"
   ]
  },
  {
   "cell_type": "code",
   "execution_count": 11,
   "id": "d09c3777",
   "metadata": {},
   "outputs": [],
   "source": [
    "d = {'k1':123,'k2':[1,2,3],'k3':{'insidekey':100}}"
   ]
  },
  {
   "cell_type": "code",
   "execution_count": 12,
   "id": "fdbec9d0",
   "metadata": {},
   "outputs": [
    {
     "data": {
      "text/plain": [
       "[1, 2, 3]"
      ]
     },
     "execution_count": 12,
     "metadata": {},
     "output_type": "execute_result"
    }
   ],
   "source": [
    "d['k2']"
   ]
  },
  {
   "cell_type": "code",
   "execution_count": 14,
   "id": "83bf0598",
   "metadata": {},
   "outputs": [
    {
     "data": {
      "text/plain": [
       "100"
      ]
     },
     "execution_count": 14,
     "metadata": {},
     "output_type": "execute_result"
    }
   ],
   "source": [
    "d['k3']['insidekey']"
   ]
  },
  {
   "cell_type": "code",
   "execution_count": 15,
   "id": "ab04a70d",
   "metadata": {},
   "outputs": [
    {
     "data": {
      "text/plain": [
       "3"
      ]
     },
     "execution_count": 15,
     "metadata": {},
     "output_type": "execute_result"
    }
   ],
   "source": [
    "d['k2'][2]"
   ]
  },
  {
   "cell_type": "code",
   "execution_count": 16,
   "id": "d60da99e",
   "metadata": {},
   "outputs": [],
   "source": [
    "d = {'key1':['a','b','c']}"
   ]
  },
  {
   "cell_type": "code",
   "execution_count": 17,
   "id": "e61f41ee",
   "metadata": {},
   "outputs": [
    {
     "data": {
      "text/plain": [
       "{'key1': ['a', 'b', 'c']}"
      ]
     },
     "execution_count": 17,
     "metadata": {},
     "output_type": "execute_result"
    }
   ],
   "source": [
    "d\n"
   ]
  },
  {
   "cell_type": "code",
   "execution_count": 18,
   "id": "9f6e12d5",
   "metadata": {},
   "outputs": [
    {
     "data": {
      "text/plain": [
       "'C'"
      ]
     },
     "execution_count": 18,
     "metadata": {},
     "output_type": "execute_result"
    }
   ],
   "source": [
    "d['key1'][2].upper()"
   ]
  },
  {
   "cell_type": "code",
   "execution_count": 19,
   "id": "0d37e34f",
   "metadata": {},
   "outputs": [],
   "source": [
    "my_list = d['key1']"
   ]
  },
  {
   "cell_type": "code",
   "execution_count": 20,
   "id": "644855ed",
   "metadata": {},
   "outputs": [
    {
     "data": {
      "text/plain": [
       "['a', 'b', 'c']"
      ]
     },
     "execution_count": 20,
     "metadata": {},
     "output_type": "execute_result"
    }
   ],
   "source": [
    "my_list"
   ]
  },
  {
   "cell_type": "code",
   "execution_count": 21,
   "id": "5bf35ba1",
   "metadata": {},
   "outputs": [],
   "source": [
    "letter = my_list[2].upper()"
   ]
  },
  {
   "cell_type": "code",
   "execution_count": 22,
   "id": "fe7c6010",
   "metadata": {},
   "outputs": [
    {
     "data": {
      "text/plain": [
       "'C'"
      ]
     },
     "execution_count": 22,
     "metadata": {},
     "output_type": "execute_result"
    }
   ],
   "source": [
    "letter"
   ]
  },
  {
   "cell_type": "code",
   "execution_count": 23,
   "id": "3f3b06fe",
   "metadata": {},
   "outputs": [
    {
     "data": {
      "text/plain": [
       "'c'"
      ]
     },
     "execution_count": 23,
     "metadata": {},
     "output_type": "execute_result"
    }
   ],
   "source": [
    "letter.lower()"
   ]
  },
  {
   "cell_type": "code",
   "execution_count": 24,
   "id": "d6d9ad41",
   "metadata": {},
   "outputs": [],
   "source": [
    "d = {'key1':100, 'key2':200}"
   ]
  },
  {
   "cell_type": "code",
   "execution_count": 25,
   "id": "d8249685",
   "metadata": {},
   "outputs": [
    {
     "data": {
      "text/plain": [
       "{'key1': 100, 'key2': 200}"
      ]
     },
     "execution_count": 25,
     "metadata": {},
     "output_type": "execute_result"
    }
   ],
   "source": [
    "d\n"
   ]
  },
  {
   "cell_type": "markdown",
   "id": "0abfbf44",
   "metadata": {},
   "source": [
    "Para insertar una nueva clave y valor "
   ]
  },
  {
   "cell_type": "code",
   "execution_count": 26,
   "id": "e03904f5",
   "metadata": {},
   "outputs": [],
   "source": [
    "d['k3'] = 300"
   ]
  },
  {
   "cell_type": "code",
   "execution_count": 27,
   "id": "340266ec",
   "metadata": {},
   "outputs": [
    {
     "data": {
      "text/plain": [
       "{'key1': 100, 'key2': 200, 'k3': 300}"
      ]
     },
     "execution_count": 27,
     "metadata": {},
     "output_type": "execute_result"
    }
   ],
   "source": [
    "d\n"
   ]
  },
  {
   "cell_type": "markdown",
   "id": "0e55b9fc",
   "metadata": {},
   "source": [
    "También podemos usar el mismo metodo para sobre escribir un par clave:valoor"
   ]
  },
  {
   "cell_type": "code",
   "execution_count": 28,
   "id": "3b791cde",
   "metadata": {},
   "outputs": [],
   "source": [
    "d['key1'] = 'NEW VALUE'"
   ]
  },
  {
   "cell_type": "code",
   "execution_count": 29,
   "id": "49c75aab",
   "metadata": {},
   "outputs": [
    {
     "data": {
      "text/plain": [
       "{'key1': 'NEW VALUE', 'key2': 200, 'k3': 300}"
      ]
     },
     "execution_count": 29,
     "metadata": {},
     "output_type": "execute_result"
    }
   ],
   "source": [
    "d\n"
   ]
  },
  {
   "cell_type": "code",
   "execution_count": 30,
   "id": "2aa1f5f1",
   "metadata": {},
   "outputs": [],
   "source": [
    "d = {'key1': 100, 'key2': 200, 'k3': 300}"
   ]
  },
  {
   "cell_type": "markdown",
   "id": "b4c6f82b",
   "metadata": {},
   "source": [
    "Para obtener todas las claves "
   ]
  },
  {
   "cell_type": "code",
   "execution_count": 31,
   "id": "c7ed6a4b",
   "metadata": {},
   "outputs": [
    {
     "data": {
      "text/plain": [
       "dict_keys(['key1', 'key2', 'k3'])"
      ]
     },
     "execution_count": 31,
     "metadata": {},
     "output_type": "execute_result"
    }
   ],
   "source": [
    "d.keys()"
   ]
  },
  {
   "cell_type": "markdown",
   "id": "14632fd7",
   "metadata": {},
   "source": [
    "Para obtener los valores values()"
   ]
  },
  {
   "cell_type": "code",
   "execution_count": 32,
   "id": "ac23bead",
   "metadata": {},
   "outputs": [
    {
     "data": {
      "text/plain": [
       "dict_values([100, 200, 300])"
      ]
     },
     "execution_count": 32,
     "metadata": {},
     "output_type": "execute_result"
    }
   ],
   "source": [
    "d.values()"
   ]
  },
  {
   "cell_type": "code",
   "execution_count": 33,
   "id": "5d5aa5a8",
   "metadata": {},
   "outputs": [
    {
     "data": {
      "text/plain": [
       "dict_items([('key1', 100), ('key2', 200), ('k3', 300)])"
      ]
     },
     "execution_count": 33,
     "metadata": {},
     "output_type": "execute_result"
    }
   ],
   "source": [
    "d.items()"
   ]
  },
  {
   "cell_type": "markdown",
   "id": "5af569d7",
   "metadata": {},
   "source": [
    "items() devuelve pares de tuplas con los items"
   ]
  },
  {
   "cell_type": "code",
   "execution_count": null,
   "id": "3514764f",
   "metadata": {},
   "outputs": [],
   "source": []
  }
 ],
 "metadata": {
  "kernelspec": {
   "display_name": "Python 3 (ipykernel)",
   "language": "python",
   "name": "python3"
  },
  "language_info": {
   "codemirror_mode": {
    "name": "ipython",
    "version": 3
   },
   "file_extension": ".py",
   "mimetype": "text/x-python",
   "name": "python",
   "nbconvert_exporter": "python",
   "pygments_lexer": "ipython3",
   "version": "3.11.4"
  }
 },
 "nbformat": 4,
 "nbformat_minor": 5
}
