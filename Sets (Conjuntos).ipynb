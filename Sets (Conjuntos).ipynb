{
 "cells": [
  {
   "cell_type": "markdown",
   "id": "61c2f0aa",
   "metadata": {},
   "source": [
    "## Sets:"
   ]
  },
  {
   "cell_type": "markdown",
   "id": "bc6ada65",
   "metadata": {},
   "source": [
    "Los conjuntos son colecciones ordenadas de elemetos ÜNICOS, solo puede haber una sola representación del mismo objeto por lo que no puede tener duplicados su sintaxis es similar a la de los diccionarios pero sin el par key:value pero si lleva {} .Los sets no tiene un orden especial"
   ]
  },
  {
   "cell_type": "code",
   "execution_count": null,
   "id": "591b2276",
   "metadata": {},
   "outputs": [],
   "source": [
    "myset = set()"
   ]
  },
  {
   "cell_type": "code",
   "execution_count": 2,
   "id": "84d79017",
   "metadata": {},
   "outputs": [
    {
     "data": {
      "text/plain": [
       "set()"
      ]
     },
     "execution_count": 2,
     "metadata": {},
     "output_type": "execute_result"
    }
   ],
   "source": [
    "myset"
   ]
  },
  {
   "cell_type": "markdown",
   "id": "95fea0ae",
   "metadata": {},
   "source": [
    "Para agregar algun elemento al set utilizamos el metodo add()"
   ]
  },
  {
   "cell_type": "code",
   "execution_count": 3,
   "id": "68865476",
   "metadata": {},
   "outputs": [],
   "source": [
    "myset.add(1)"
   ]
  },
  {
   "cell_type": "code",
   "execution_count": 4,
   "id": "e0315384",
   "metadata": {},
   "outputs": [
    {
     "data": {
      "text/plain": [
       "{1}"
      ]
     },
     "execution_count": 4,
     "metadata": {},
     "output_type": "execute_result"
    }
   ],
   "source": [
    "myset"
   ]
  },
  {
   "cell_type": "code",
   "execution_count": 5,
   "id": "ce7ff557",
   "metadata": {},
   "outputs": [],
   "source": [
    "myset.add(2)"
   ]
  },
  {
   "cell_type": "code",
   "execution_count": 6,
   "id": "0edf3d58",
   "metadata": {},
   "outputs": [
    {
     "data": {
      "text/plain": [
       "{1, 2}"
      ]
     },
     "execution_count": 6,
     "metadata": {},
     "output_type": "execute_result"
    }
   ],
   "source": [
    "myset"
   ]
  },
  {
   "cell_type": "markdown",
   "id": "383bbfa3",
   "metadata": {},
   "source": [
    "Pero si tratamos de volver a agregar este valor 2, este no se agrega pues solo admites valores únicos, si tratamos de agregar un elemento que ya esta en elo set este no se va repetir "
   ]
  },
  {
   "cell_type": "code",
   "execution_count": 7,
   "id": "b2c86e30",
   "metadata": {},
   "outputs": [],
   "source": [
    "myset.add(2)"
   ]
  },
  {
   "cell_type": "code",
   "execution_count": 8,
   "id": "7bd9980a",
   "metadata": {},
   "outputs": [
    {
     "data": {
      "text/plain": [
       "{1, 2}"
      ]
     },
     "execution_count": 8,
     "metadata": {},
     "output_type": "execute_result"
    }
   ],
   "source": [
    "myset"
   ]
  },
  {
   "cell_type": "markdown",
   "id": "a133c464",
   "metadata": {},
   "source": [
    "Es interesante para agregar elementos casting una lista de elementois únicos "
   ]
  },
  {
   "cell_type": "code",
   "execution_count": 10,
   "id": "0bb98ce2",
   "metadata": {},
   "outputs": [],
   "source": [
    "mylist = [1,1,1,1,1,1,2,2,2,3,3,3,3]"
   ]
  },
  {
   "cell_type": "code",
   "execution_count": 11,
   "id": "b083c008",
   "metadata": {},
   "outputs": [
    {
     "data": {
      "text/plain": [
       "{1, 2, 3}"
      ]
     },
     "execution_count": 11,
     "metadata": {},
     "output_type": "execute_result"
    }
   ],
   "source": [
    "set(mylist)"
   ]
  },
  {
   "cell_type": "code",
   "execution_count": null,
   "id": "b55d6652",
   "metadata": {},
   "outputs": [],
   "source": []
  }
 ],
 "metadata": {
  "kernelspec": {
   "display_name": "Python 3 (ipykernel)",
   "language": "python",
   "name": "python3"
  },
  "language_info": {
   "codemirror_mode": {
    "name": "ipython",
    "version": 3
   },
   "file_extension": ".py",
   "mimetype": "text/x-python",
   "name": "python",
   "nbconvert_exporter": "python",
   "pygments_lexer": "ipython3",
   "version": "3.11.4"
  }
 },
 "nbformat": 4,
 "nbformat_minor": 5
}
