{
 "cells": [
  {
   "cell_type": "code",
   "execution_count": 1,
   "id": "1b2ea380",
   "metadata": {},
   "outputs": [],
   "source": [
    "mystring = 'Hello World'"
   ]
  },
  {
   "cell_type": "code",
   "execution_count": 2,
   "id": "d40e5244",
   "metadata": {},
   "outputs": [
    {
     "data": {
      "text/plain": [
       "'Hello World'"
      ]
     },
     "execution_count": 2,
     "metadata": {},
     "output_type": "execute_result"
    }
   ],
   "source": [
    "mystring"
   ]
  },
  {
   "cell_type": "markdown",
   "id": "daa1bcaf",
   "metadata": {},
   "source": [
    "Para tomar solo un caracter de esta cadena o str"
   ]
  },
  {
   "cell_type": "code",
   "execution_count": 3,
   "id": "c0106bcb",
   "metadata": {},
   "outputs": [
    {
     "data": {
      "text/plain": [
       "'H'"
      ]
     },
     "execution_count": 3,
     "metadata": {},
     "output_type": "execute_result"
    }
   ],
   "source": [
    "mystring[0]"
   ]
  },
  {
   "cell_type": "markdown",
   "id": "37eb5a82",
   "metadata": {},
   "source": [
    "Si quisieramos tomar la 'r' por ejemplo contamos el indice empezando por 0"
   ]
  },
  {
   "cell_type": "code",
   "execution_count": 4,
   "id": "6b5b8450",
   "metadata": {},
   "outputs": [
    {
     "data": {
      "text/plain": [
       "'r'"
      ]
     },
     "execution_count": 4,
     "metadata": {},
     "output_type": "execute_result"
    }
   ],
   "source": [
    "mystring[8]"
   ]
  },
  {
   "cell_type": "markdown",
   "id": "8bcc713d",
   "metadata": {},
   "source": [
    "Si quisieramos tomar la 'l' nos sería mas facil utilizar el reverse index comenzando por el -1"
   ]
  },
  {
   "cell_type": "code",
   "execution_count": 5,
   "id": "79e5933b",
   "metadata": {},
   "outputs": [
    {
     "data": {
      "text/plain": [
       "'l'"
      ]
     },
     "execution_count": 5,
     "metadata": {},
     "output_type": "execute_result"
    }
   ],
   "source": [
    "mystring[-2]"
   ]
  },
  {
   "cell_type": "markdown",
   "id": "ced6b389",
   "metadata": {},
   "source": [
    "SLICING: tomamos un pedazo completo del string [star:end:step]"
   ]
  },
  {
   "cell_type": "code",
   "execution_count": 6,
   "id": "2a1d15e7",
   "metadata": {},
   "outputs": [],
   "source": [
    "mystring = 'abcdefghijk'"
   ]
  },
  {
   "cell_type": "code",
   "execution_count": 7,
   "id": "de411c58",
   "metadata": {},
   "outputs": [
    {
     "data": {
      "text/plain": [
       "'abcdefghijk'"
      ]
     },
     "execution_count": 7,
     "metadata": {},
     "output_type": "execute_result"
    }
   ],
   "source": [
    "mystring"
   ]
  },
  {
   "cell_type": "markdown",
   "id": "60ed75f0",
   "metadata": {},
   "source": [
    "Si quisieramos tomar toda la parte del string y que este empiece en la 'c'"
   ]
  },
  {
   "cell_type": "code",
   "execution_count": 8,
   "id": "aaf98edc",
   "metadata": {},
   "outputs": [
    {
     "data": {
      "text/plain": [
       "'cdefghijk'"
      ]
     },
     "execution_count": 8,
     "metadata": {},
     "output_type": "execute_result"
    }
   ],
   "source": [
    "mystring[2:]"
   ]
  },
  {
   "cell_type": "code",
   "execution_count": 9,
   "id": "d891b7ef",
   "metadata": {},
   "outputs": [
    {
     "data": {
      "text/plain": [
       "'abc'"
      ]
     },
     "execution_count": 9,
     "metadata": {},
     "output_type": "execute_result"
    }
   ],
   "source": [
    "mystring[:3]"
   ]
  },
  {
   "cell_type": "markdown",
   "id": "032cd922",
   "metadata": {},
   "source": [
    "Hay que tener en cuenta que el stop index va hasta el indice 3 pero no lo incluye"
   ]
  },
  {
   "cell_type": "markdown",
   "id": "af80b865",
   "metadata": {},
   "source": [
    "Ahora si quisieramos tomar una sección del centro como 'def'"
   ]
  },
  {
   "cell_type": "code",
   "execution_count": 10,
   "id": "9b22024c",
   "metadata": {},
   "outputs": [
    {
     "data": {
      "text/plain": [
       "'def'"
      ]
     },
     "execution_count": 10,
     "metadata": {},
     "output_type": "execute_result"
    }
   ],
   "source": [
    "mystring[3:6]"
   ]
  },
  {
   "cell_type": "code",
   "execution_count": 11,
   "id": "2c3961f6",
   "metadata": {},
   "outputs": [
    {
     "data": {
      "text/plain": [
       "'bc'"
      ]
     },
     "execution_count": 11,
     "metadata": {},
     "output_type": "execute_result"
    }
   ],
   "source": [
    "mystring[1:3]"
   ]
  },
  {
   "cell_type": "markdown",
   "id": "2e270720",
   "metadata": {},
   "source": [
    "Para utilizar el indice step [::step]"
   ]
  },
  {
   "cell_type": "code",
   "execution_count": 12,
   "id": "60cb2ae5",
   "metadata": {},
   "outputs": [
    {
     "data": {
      "text/plain": [
       "'acegik'"
      ]
     },
     "execution_count": 12,
     "metadata": {},
     "output_type": "execute_result"
    }
   ],
   "source": [
    "mystring[::2]"
   ]
  },
  {
   "cell_type": "code",
   "execution_count": 13,
   "id": "2c3a44d7",
   "metadata": {},
   "outputs": [
    {
     "data": {
      "text/plain": [
       "'ceg'"
      ]
     },
     "execution_count": 13,
     "metadata": {},
     "output_type": "execute_result"
    }
   ],
   "source": [
    "mystring[2:7:2]"
   ]
  },
  {
   "cell_type": "markdown",
   "id": "45818d66",
   "metadata": {},
   "source": [
    "Si queremos revertir completamente el string solamente necesitamos "
   ]
  },
  {
   "cell_type": "code",
   "execution_count": 14,
   "id": "a699052d",
   "metadata": {},
   "outputs": [
    {
     "data": {
      "text/plain": [
       "'kjihgfedcba'"
      ]
     },
     "execution_count": 14,
     "metadata": {},
     "output_type": "execute_result"
    }
   ],
   "source": [
    "mystring[::-1]"
   ]
  },
  {
   "cell_type": "markdown",
   "id": "5183f363",
   "metadata": {},
   "source": [
    "## STRING PROPERTIES AND METHODS(PROPIEDADES Y MÉTODOS DE CADENA)"
   ]
  },
  {
   "cell_type": "markdown",
   "id": "dac499ac",
   "metadata": {},
   "source": [
    "### INMUTABILITY"
   ]
  },
  {
   "cell_type": "code",
   "execution_count": 15,
   "id": "b6fcecea",
   "metadata": {},
   "outputs": [],
   "source": [
    "name = 'Sam'"
   ]
  },
  {
   "cell_type": "markdown",
   "id": "2c95ed42",
   "metadata": {},
   "source": [
    "Si quisieramos cambiar de Sam a Pam así: name[0] = 'P' Esto nos generaría un error"
   ]
  },
  {
   "cell_type": "markdown",
   "id": "de9d72e6",
   "metadata": {},
   "source": [
    "Para poder cambiar cambiar esa 'S' por una 'P' básicamente tenemos que crear una nueva cadena y podemos hacerlo con la concatenación."
   ]
  },
  {
   "cell_type": "code",
   "execution_count": 18,
   "id": "fcd0ff25",
   "metadata": {},
   "outputs": [],
   "source": [
    "last_letters = name[1:]"
   ]
  },
  {
   "cell_type": "code",
   "execution_count": 17,
   "id": "434c75ee",
   "metadata": {},
   "outputs": [
    {
     "ename": "NameError",
     "evalue": "name 'last_letters' is not defined",
     "output_type": "error",
     "traceback": [
      "\u001b[0;31m---------------------------------------------------------------------------\u001b[0m",
      "\u001b[0;31mNameError\u001b[0m                                 Traceback (most recent call last)",
      "Cell \u001b[0;32mIn[17], line 1\u001b[0m\n\u001b[0;32m----> 1\u001b[0m name \u001b[38;5;241m+\u001b[39m \u001b[43mlast_letters\u001b[49m\n",
      "\u001b[0;31mNameError\u001b[0m: name 'last_letters' is not defined"
     ]
    }
   ],
   "source": [
    "name + last_letters"
   ]
  },
  {
   "cell_type": "code",
   "execution_count": 19,
   "id": "93c2c471",
   "metadata": {},
   "outputs": [
    {
     "data": {
      "text/plain": [
       "'am'"
      ]
     },
     "execution_count": 19,
     "metadata": {},
     "output_type": "execute_result"
    }
   ],
   "source": [
    "last_letters"
   ]
  },
  {
   "cell_type": "code",
   "execution_count": 20,
   "id": "05ac2d1a",
   "metadata": {},
   "outputs": [
    {
     "data": {
      "text/plain": [
       "'Samam'"
      ]
     },
     "execution_count": 20,
     "metadata": {},
     "output_type": "execute_result"
    }
   ],
   "source": [
    "name + last_letters"
   ]
  },
  {
   "cell_type": "code",
   "execution_count": 21,
   "id": "5906c871",
   "metadata": {},
   "outputs": [],
   "source": [
    "first_letters = 'P'"
   ]
  },
  {
   "cell_type": "code",
   "execution_count": 23,
   "id": "ad8b1e88",
   "metadata": {},
   "outputs": [],
   "source": [
    "new_name = first_letters + last_letters"
   ]
  },
  {
   "cell_type": "code",
   "execution_count": 24,
   "id": "e3742dd3",
   "metadata": {},
   "outputs": [
    {
     "data": {
      "text/plain": [
       "'Pam'"
      ]
     },
     "execution_count": 24,
     "metadata": {},
     "output_type": "execute_result"
    }
   ],
   "source": [
    "new_name"
   ]
  },
  {
   "cell_type": "markdown",
   "id": "c6c4f0a7",
   "metadata": {},
   "source": [
    "Esto también se puede hacer directamente así:\n"
   ]
  },
  {
   "cell_type": "code",
   "execution_count": 25,
   "id": "e64147da",
   "metadata": {},
   "outputs": [
    {
     "data": {
      "text/plain": [
       "'Pam'"
      ]
     },
     "execution_count": 25,
     "metadata": {},
     "output_type": "execute_result"
    }
   ],
   "source": [
    "'P' + last_letters"
   ]
  },
  {
   "cell_type": "code",
   "execution_count": 26,
   "id": "9c300442",
   "metadata": {},
   "outputs": [],
   "source": [
    "x = 'Hello World'"
   ]
  },
  {
   "cell_type": "code",
   "execution_count": 31,
   "id": "f1111c3d",
   "metadata": {},
   "outputs": [],
   "source": [
    "x = x + ' it is beautiful outside!'"
   ]
  },
  {
   "cell_type": "code",
   "execution_count": 32,
   "id": "f021002a",
   "metadata": {},
   "outputs": [
    {
     "data": {
      "text/plain": [
       "'Hello World it is beautiful outside! it is beautiful outside!'"
      ]
     },
     "execution_count": 32,
     "metadata": {},
     "output_type": "execute_result"
    }
   ],
   "source": [
    "x"
   ]
  },
  {
   "cell_type": "markdown",
   "id": "f812177b",
   "metadata": {},
   "source": [
    "También se puede multiplicar para crear multiples concatenaciones a la vez."
   ]
  },
  {
   "cell_type": "code",
   "execution_count": 33,
   "id": "db3faa4b",
   "metadata": {},
   "outputs": [],
   "source": [
    "x = x * 3"
   ]
  },
  {
   "cell_type": "code",
   "execution_count": 34,
   "id": "67c7f3a0",
   "metadata": {},
   "outputs": [
    {
     "data": {
      "text/plain": [
       "'Hello World it is beautiful outside! it is beautiful outside!Hello World it is beautiful outside! it is beautiful outside!Hello World it is beautiful outside! it is beautiful outside!'"
      ]
     },
     "execution_count": 34,
     "metadata": {},
     "output_type": "execute_result"
    }
   ],
   "source": [
    "x"
   ]
  },
  {
   "cell_type": "code",
   "execution_count": 35,
   "id": "2570cd76",
   "metadata": {},
   "outputs": [],
   "source": [
    "letter = 'z'"
   ]
  },
  {
   "cell_type": "code",
   "execution_count": 36,
   "id": "1f272f41",
   "metadata": {},
   "outputs": [
    {
     "data": {
      "text/plain": [
       "'zzzzzzzzzz'"
      ]
     },
     "execution_count": 36,
     "metadata": {},
     "output_type": "execute_result"
    }
   ],
   "source": [
    "letter * 10"
   ]
  },
  {
   "cell_type": "code",
   "execution_count": 37,
   "id": "43b1136d",
   "metadata": {},
   "outputs": [
    {
     "data": {
      "text/plain": [
       "'23'"
      ]
     },
     "execution_count": 37,
     "metadata": {},
     "output_type": "execute_result"
    }
   ],
   "source": [
    "'2' + '3'"
   ]
  },
  {
   "cell_type": "code",
   "execution_count": 38,
   "id": "a2ef9e8d",
   "metadata": {},
   "outputs": [
    {
     "data": {
      "text/plain": [
       "5"
      ]
     },
     "execution_count": 38,
     "metadata": {},
     "output_type": "execute_result"
    }
   ],
   "source": [
    "2 + 3"
   ]
  },
  {
   "cell_type": "markdown",
   "id": "13075d44",
   "metadata": {},
   "source": [
    "### Métodos "
   ]
  },
  {
   "cell_type": "code",
   "execution_count": 40,
   "id": "ad5dfcf4",
   "metadata": {},
   "outputs": [],
   "source": [
    "x = 'Hello World'"
   ]
  },
  {
   "cell_type": "code",
   "execution_count": 41,
   "id": "2b6cf93c",
   "metadata": {},
   "outputs": [
    {
     "data": {
      "text/plain": [
       "'HELLO WORLD'"
      ]
     },
     "execution_count": 41,
     "metadata": {},
     "output_type": "execute_result"
    }
   ],
   "source": [
    "x.upper()"
   ]
  },
  {
   "cell_type": "markdown",
   "id": "ff8a132e",
   "metadata": {},
   "source": [
    "Este metodo no afecta a la cadena original ,para que no afecte a kla cadena original ,tenemos que reasignarla."
   ]
  },
  {
   "cell_type": "code",
   "execution_count": 42,
   "id": "8f7d041c",
   "metadata": {},
   "outputs": [
    {
     "data": {
      "text/plain": [
       "'Hello World'"
      ]
     },
     "execution_count": 42,
     "metadata": {},
     "output_type": "execute_result"
    }
   ],
   "source": [
    "x"
   ]
  },
  {
   "cell_type": "code",
   "execution_count": 43,
   "id": "4e8412a3",
   "metadata": {},
   "outputs": [],
   "source": [
    "# x = x.upper()"
   ]
  },
  {
   "cell_type": "code",
   "execution_count": 44,
   "id": "ede38662",
   "metadata": {},
   "outputs": [
    {
     "data": {
      "text/plain": [
       "'HELLO WORLD'"
      ]
     },
     "execution_count": 44,
     "metadata": {},
     "output_type": "execute_result"
    }
   ],
   "source": [
    "# x"
   ]
  },
  {
   "cell_type": "code",
   "execution_count": 45,
   "id": "42213f57",
   "metadata": {},
   "outputs": [
    {
     "data": {
      "text/plain": [
       "'HELLO WORLD'"
      ]
     },
     "execution_count": 45,
     "metadata": {},
     "output_type": "execute_result"
    }
   ],
   "source": [
    "x"
   ]
  },
  {
   "cell_type": "code",
   "execution_count": 46,
   "id": "534e2ab4",
   "metadata": {},
   "outputs": [],
   "source": [
    "x = 'Hello World'"
   ]
  },
  {
   "cell_type": "code",
   "execution_count": 47,
   "id": "36e411f4",
   "metadata": {},
   "outputs": [
    {
     "data": {
      "text/plain": [
       "'Hello World'"
      ]
     },
     "execution_count": 47,
     "metadata": {},
     "output_type": "execute_result"
    }
   ],
   "source": [
    "x"
   ]
  },
  {
   "cell_type": "code",
   "execution_count": 48,
   "id": "7ffe2a10",
   "metadata": {},
   "outputs": [
    {
     "data": {
      "text/plain": [
       "'hello world'"
      ]
     },
     "execution_count": 48,
     "metadata": {},
     "output_type": "execute_result"
    }
   ],
   "source": [
    "x.lower()"
   ]
  },
  {
   "cell_type": "markdown",
   "id": "8f9e44bb",
   "metadata": {},
   "source": [
    "Este método convierte todos los caracteres de la cadena a minúsculas lower()"
   ]
  },
  {
   "cell_type": "code",
   "execution_count": 49,
   "id": "cebfc478",
   "metadata": {},
   "outputs": [
    {
     "data": {
      "text/plain": [
       "['Hello', 'World']"
      ]
     },
     "execution_count": 49,
     "metadata": {},
     "output_type": "execute_result"
    }
   ],
   "source": [
    "x.split()"
   ]
  },
  {
   "cell_type": "markdown",
   "id": "5d057ede",
   "metadata": {},
   "source": [
    "El método split() nos permite crear una lista que separa la cadena basandose en los espacios o el que le pasemos en el método."
   ]
  },
  {
   "cell_type": "code",
   "execution_count": 50,
   "id": "c25f6277",
   "metadata": {},
   "outputs": [],
   "source": [
    "x = 'Hi this is a string'"
   ]
  },
  {
   "cell_type": "code",
   "execution_count": 51,
   "id": "e5720aea",
   "metadata": {},
   "outputs": [
    {
     "data": {
      "text/plain": [
       "['Hi', 'this', 'is', 'a', 'string']"
      ]
     },
     "execution_count": 51,
     "metadata": {},
     "output_type": "execute_result"
    }
   ],
   "source": [
    "x.split()"
   ]
  },
  {
   "cell_type": "code",
   "execution_count": 54,
   "id": "ba9ae272",
   "metadata": {},
   "outputs": [
    {
     "data": {
      "text/plain": [
       "['H', ' th', 's ', 's a str', 'ng']"
      ]
     },
     "execution_count": 54,
     "metadata": {},
     "output_type": "execute_result"
    }
   ],
   "source": [
    "x.split('i')"
   ]
  },
  {
   "cell_type": "markdown",
   "id": "b59b1b5a",
   "metadata": {},
   "source": [
    "En este caso separa por las 'i' que estan en el string y por ahí va separando la cadena "
   ]
  },
  {
   "cell_type": "code",
   "execution_count": null,
   "id": "bf624ef5",
   "metadata": {},
   "outputs": [],
   "source": []
  }
 ],
 "metadata": {
  "kernelspec": {
   "display_name": "Python 3 (ipykernel)",
   "language": "python",
   "name": "python3"
  },
  "language_info": {
   "codemirror_mode": {
    "name": "ipython",
    "version": 3
   },
   "file_extension": ".py",
   "mimetype": "text/x-python",
   "name": "python",
   "nbconvert_exporter": "python",
   "pygments_lexer": "ipython3",
   "version": "3.10.9"
  }
 },
 "nbformat": 4,
 "nbformat_minor": 5
}
