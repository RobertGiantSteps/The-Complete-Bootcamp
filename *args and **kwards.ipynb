{
 "cells": [
  {
   "cell_type": "code",
   "execution_count": 8,
   "id": "79d6c0fb",
   "metadata": {},
   "outputs": [
    {
     "ename": "SyntaxError",
     "evalue": "cannot use starred expression here (2385615152.py, line 3)",
     "output_type": "error",
     "traceback": [
      "\u001b[0;36m  Cell \u001b[0;32mIn[8], line 3\u001b[0;36m\u001b[0m\n\u001b[0;31m    return sum((*args)) * 0.05\u001b[0m\n\u001b[0m                ^\u001b[0m\n\u001b[0;31mSyntaxError\u001b[0m\u001b[0;31m:\u001b[0m cannot use starred expression here\n"
     ]
    }
   ],
   "source": [
    "def myfunc(a,b,c = 0,d = 0,e = 0):\n",
    "    #Returns 5% of the sum of a and b \n",
    "    return sum((a,b,c,d,e)) * 0.05"
   ]
  },
  {
   "cell_type": "code",
   "execution_count": null,
   "id": "4385018a",
   "metadata": {},
   "outputs": [],
   "source": [
    "myfunc(40,60,15)"
   ]
  },
  {
   "cell_type": "code",
   "execution_count": 10,
   "id": "5e720e61",
   "metadata": {},
   "outputs": [],
   "source": [
    "def myfunc(*args):\n",
    "    return sum(args) * 0.05"
   ]
  },
  {
   "cell_type": "markdown",
   "id": "996df976",
   "metadata": {},
   "source": [
    "*args devuelve una tupla con todos los parametros que queremos pasar ,estos agyumentos son tratados como tupla con  los valores que tenga dentro .Puedes tener un número arbitrario de argumentos."
   ]
  },
  {
   "cell_type": "code",
   "execution_count": 12,
   "id": "826ed9c6",
   "metadata": {},
   "outputs": [
    {
     "data": {
      "text/plain": [
       "35.0"
      ]
     },
     "execution_count": 12,
     "metadata": {},
     "output_type": "execute_result"
    }
   ],
   "source": [
    "myfunc(100,100,50,50,400)"
   ]
  },
  {
   "cell_type": "code",
   "execution_count": 13,
   "id": "25d7fe3b",
   "metadata": {},
   "outputs": [],
   "source": [
    "def cars(*args):\n",
    "    return f'Estos son los coches {args}'"
   ]
  },
  {
   "cell_type": "code",
   "execution_count": 14,
   "id": "ebea8125",
   "metadata": {},
   "outputs": [
    {
     "data": {
      "text/plain": [
       "\"Estos son los coches ('maseratti', 'ferrari', 'porshe')\""
      ]
     },
     "execution_count": 14,
     "metadata": {},
     "output_type": "execute_result"
    }
   ],
   "source": [
    "cars('maseratti','ferrari','porshe')"
   ]
  },
  {
   "cell_type": "code",
   "execution_count": 15,
   "id": "ceb8d6bf",
   "metadata": {},
   "outputs": [],
   "source": [
    "def myfunc(*args):\n",
    "    for item in args:\n",
    "        print(item)"
   ]
  },
  {
   "cell_type": "code",
   "execution_count": 16,
   "id": "db589d95",
   "metadata": {},
   "outputs": [
    {
     "name": "stdout",
     "output_type": "stream",
     "text": [
      "7\n",
      "100\n",
      "50\n",
      "33\n",
      "5\n",
      "22\n"
     ]
    }
   ],
   "source": [
    "myfunc(7,100,50,33,5,22)"
   ]
  },
  {
   "cell_type": "code",
   "execution_count": 24,
   "id": "725443b6",
   "metadata": {},
   "outputs": [],
   "source": [
    "def myfunc(**kwargs):\n",
    "    print(kwargs)\n",
    "    if 'fruit' in kwargs:\n",
    "        print('My fruit of choice is {}'.format(kwargs['fruit']))\n",
    "    else:\n",
    "        print('I did not find any fruit here')\n",
    "        \n",
    "    "
   ]
  },
  {
   "cell_type": "code",
   "execution_count": 25,
   "id": "eb934339",
   "metadata": {},
   "outputs": [
    {
     "name": "stdout",
     "output_type": "stream",
     "text": [
      "{'fruit': 'mango', 'second': 'papaya', 'veggie': 'lettuce'}\n",
      "My fruit of choice is mango\n"
     ]
    }
   ],
   "source": [
    "myfunc(fruit ='mango',second ='papaya',veggie = 'lettuce')"
   ]
  },
  {
   "cell_type": "code",
   "execution_count": 20,
   "id": "8ead56d2",
   "metadata": {},
   "outputs": [
    {
     "ename": "NameError",
     "evalue": "name 'kwards' is not defined",
     "output_type": "error",
     "traceback": [
      "\u001b[0;31m---------------------------------------------------------------------------\u001b[0m",
      "\u001b[0;31mNameError\u001b[0m                                 Traceback (most recent call last)",
      "Cell \u001b[0;32mIn[20], line 1\u001b[0m\n\u001b[0;32m----> 1\u001b[0m \u001b[43mmyfunc\u001b[49m\u001b[43m(\u001b[49m\u001b[43mfruit\u001b[49m\u001b[43m \u001b[49m\u001b[38;5;241;43m=\u001b[39;49m\u001b[43m \u001b[49m\u001b[38;5;124;43m'\u001b[39;49m\u001b[38;5;124;43mapple\u001b[39;49m\u001b[38;5;124;43m'\u001b[39;49m\u001b[43m)\u001b[49m\n",
      "Cell \u001b[0;32mIn[18], line 3\u001b[0m, in \u001b[0;36mmyfunc\u001b[0;34m(**kwargs)\u001b[0m\n\u001b[1;32m      1\u001b[0m \u001b[38;5;28;01mdef\u001b[39;00m \u001b[38;5;21mmyfunc\u001b[39m(\u001b[38;5;241m*\u001b[39m\u001b[38;5;241m*\u001b[39mkwargs):\n\u001b[1;32m      2\u001b[0m     \u001b[38;5;28;01mif\u001b[39;00m \u001b[38;5;124m'\u001b[39m\u001b[38;5;124mfruit\u001b[39m\u001b[38;5;124m'\u001b[39m \u001b[38;5;129;01min\u001b[39;00m kwargs:\n\u001b[0;32m----> 3\u001b[0m         \u001b[38;5;28mprint\u001b[39m(\u001b[38;5;124m'\u001b[39m\u001b[38;5;124mMy fruit of choice is \u001b[39m\u001b[38;5;132;01m{}\u001b[39;00m\u001b[38;5;124m'\u001b[39m\u001b[38;5;241m.\u001b[39mformat(\u001b[43mkwards\u001b[49m[\u001b[38;5;124m'\u001b[39m\u001b[38;5;124mfruit\u001b[39m\u001b[38;5;124m'\u001b[39m]))\n\u001b[1;32m      4\u001b[0m     \u001b[38;5;28;01melse\u001b[39;00m:\n\u001b[1;32m      5\u001b[0m         \u001b[38;5;28mprint\u001b[39m(\u001b[38;5;124m'\u001b[39m\u001b[38;5;124mI did not find any fruit here\u001b[39m\u001b[38;5;124m'\u001b[39m)\n",
      "\u001b[0;31mNameError\u001b[0m: name 'kwards' is not defined"
     ]
    }
   ],
   "source": [
    "myfunc(fruit = 'apple')"
   ]
  },
  {
   "cell_type": "code",
   "execution_count": 74,
   "id": "445044f7",
   "metadata": {},
   "outputs": [],
   "source": [
    "def planes(**kwargs):\n",
    "    print(kwargs)\n",
    "    for plane in kwargs.keys():\n",
    "        if plane == 'fighter':\n",
    "            print('The caza is {}'.format(kwargs[plane]))\n",
    "        \n",
    "    "
   ]
  },
  {
   "cell_type": "code",
   "execution_count": 75,
   "id": "7f91f3cd",
   "metadata": {},
   "outputs": [
    {
     "name": "stdout",
     "output_type": "stream",
     "text": [
      "{'fighter': 'f22', 'comercial': 'A380', 'bomber': 'B2Spirit'}\n",
      "The caza is f22\n"
     ]
    }
   ],
   "source": [
    "planes(fighter='f22',comercial='A380',bomber='B2Spirit')"
   ]
  },
  {
   "cell_type": "markdown",
   "id": "e9d49d4c",
   "metadata": {},
   "source": [
    "**kwargs devuelve un diccionario al ser pasado por parametros y *args devuelve una tupla estos tipos de argumentos y parametros tambien pueden ser utilizados en conjunto o juntos "
   ]
  },
  {
   "cell_type": "code",
   "execution_count": 80,
   "id": "d75f0719",
   "metadata": {},
   "outputs": [],
   "source": [
    "def myfunc(*args,**kwargs):\n",
    "    print(args)\n",
    "    print(kwargs)\n",
    "    print('I would like {} {} and I like  {}'.format(args[0],kwargs['food'],kwargs['animal']))"
   ]
  },
  {
   "cell_type": "code",
   "execution_count": 81,
   "id": "f9ba9fa1",
   "metadata": {},
   "outputs": [
    {
     "name": "stdout",
     "output_type": "stream",
     "text": [
      "(10, 20, 30)\n",
      "{'fruit': 'orange', 'food': 'eggs', 'animal': 'dog'}\n",
      "I would like 10 eggs and I like  dog\n"
     ]
    }
   ],
   "source": [
    "myfunc(10,20,30,fruit = 'orange',food='eggs',animal='dog')"
   ]
  },
  {
   "cell_type": "code",
   "execution_count": 82,
   "id": "603743d6",
   "metadata": {},
   "outputs": [],
   "source": [
    "def even(*args):\n",
    "    even_numbers = []\n",
    "    for n in args:\n",
    "        if n % 2 == 0:\n",
    "            even_numbers.append(n)\n",
    "        else:\n",
    "            continue\n",
    "    return even_numbers"
   ]
  },
  {
   "cell_type": "code",
   "execution_count": 83,
   "id": "d5a72bcf",
   "metadata": {},
   "outputs": [
    {
     "data": {
      "text/plain": [
       "[2, 4, 8]"
      ]
     },
     "execution_count": 83,
     "metadata": {},
     "output_type": "execute_result"
    }
   ],
   "source": [
    "even(2,7,9,4,3,8)"
   ]
  },
  {
   "cell_type": "code",
   "execution_count": 167,
   "id": "219f9dff",
   "metadata": {},
   "outputs": [],
   "source": [
    "def low_upper(word):\n",
    "    transf_word = ''\n",
    "    for i,l in enumerate(word):\n",
    "        if i % 2 == 0:\n",
    "             transf_word += l.upper()\n",
    "        else:\n",
    "            transf_word += l.lower()\n",
    "    return transf_word\n",
    "     "
   ]
  },
  {
   "cell_type": "code",
   "execution_count": 168,
   "id": "4327ceb2",
   "metadata": {},
   "outputs": [
    {
     "data": {
      "text/plain": [
       "'TrAgAsUeÑoS'"
      ]
     },
     "execution_count": 168,
     "metadata": {},
     "output_type": "execute_result"
    }
   ],
   "source": [
    "low_upper('Tragasueños')"
   ]
  },
  {
   "cell_type": "markdown",
   "id": "ac4bbafa",
   "metadata": {},
   "source": [
    "FUNTIONS PRACTICE EXERCISES:"
   ]
  },
  {
   "cell_type": "code",
   "execution_count": null,
   "id": "d560dd31",
   "metadata": {},
   "outputs": [],
   "source": []
  }
 ],
 "metadata": {
  "kernelspec": {
   "display_name": "Python 3 (ipykernel)",
   "language": "python",
   "name": "python3"
  },
  "language_info": {
   "codemirror_mode": {
    "name": "ipython",
    "version": 3
   },
   "file_extension": ".py",
   "mimetype": "text/x-python",
   "name": "python",
   "nbconvert_exporter": "python",
   "pygments_lexer": "ipython3",
   "version": "3.10.9"
  }
 },
 "nbformat": 4,
 "nbformat_minor": 5
}
