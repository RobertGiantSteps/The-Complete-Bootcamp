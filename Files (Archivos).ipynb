{
 "cells": [
  {
   "cell_type": "markdown",
   "id": "7573c0ff",
   "metadata": {},
   "source": [
    "## Files"
   ]
  },
  {
   "cell_type": "markdown",
   "id": "482d2e44",
   "metadata": {},
   "source": [
    "Esta forma de crear archivos de texto solo fuciona en Jupiter NoteBook"
   ]
  },
  {
   "cell_type": "code",
   "execution_count": 1,
   "id": "6cf2bb86",
   "metadata": {},
   "outputs": [
    {
     "name": "stdout",
     "output_type": "stream",
     "text": [
      "Writing myfile.txt\n"
     ]
    }
   ],
   "source": [
    "%%writefile myfile.txt\n",
    "Hello this is a text file\n",
    "this is the second line \n",
    "this is the third line \n"
   ]
  },
  {
   "cell_type": "code",
   "execution_count": 2,
   "id": "2b60bc33",
   "metadata": {},
   "outputs": [],
   "source": [
    "myfile = open('myfile.txt')"
   ]
  },
  {
   "cell_type": "markdown",
   "id": "dc0edc47",
   "metadata": {},
   "source": [
    "Para saber de Jupiter NoteBook en que directorio estamos trabajando solamente necesitamos escribir el comando pwd en una celda "
   ]
  },
  {
   "cell_type": "code",
   "execution_count": 3,
   "id": "e4feecf9",
   "metadata": {},
   "outputs": [
    {
     "data": {
      "text/plain": [
       "'/Users/usuario/Desktop/The-Complete-Bootcamp'"
      ]
     },
     "execution_count": 3,
     "metadata": {},
     "output_type": "execute_result"
    }
   ],
   "source": [
    "pwd"
   ]
  },
  {
   "cell_type": "code",
   "execution_count": 4,
   "id": "d4e363df",
   "metadata": {},
   "outputs": [],
   "source": [
    "myfile = open('myfile.txt')"
   ]
  },
  {
   "cell_type": "markdown",
   "id": "e71badb9",
   "metadata": {},
   "source": [
    "El metodo read() devuelve una cadena o string completo de lo que hay en el archivo, despues de ejecutarlo una vez .nos va devbo0lver una cadena vacía pues el cursor recorre toda la cadena y tendriamos que reiniciarlo con seek.() "
   ]
  },
  {
   "cell_type": "code",
   "execution_count": 11,
   "id": "4ecee084",
   "metadata": {},
   "outputs": [
    {
     "data": {
      "text/plain": [
       "''"
      ]
     },
     "execution_count": 11,
     "metadata": {},
     "output_type": "execute_result"
    }
   ],
   "source": [
    "myfile.read()"
   ]
  },
  {
   "cell_type": "code",
   "execution_count": 12,
   "id": "ad03c672",
   "metadata": {},
   "outputs": [
    {
     "data": {
      "text/plain": [
       "0"
      ]
     },
     "execution_count": 12,
     "metadata": {},
     "output_type": "execute_result"
    }
   ],
   "source": [
    "myfile.seek(0)"
   ]
  },
  {
   "cell_type": "markdown",
   "id": "fe53253b",
   "metadata": {},
   "source": [
    "este método reinicia el cursor "
   ]
  },
  {
   "cell_type": "code",
   "execution_count": 14,
   "id": "f9c7e8b6",
   "metadata": {},
   "outputs": [
    {
     "data": {
      "text/plain": [
       "'Hello this is a text file\\nthis is the second line \\nthis is the third line \\n'"
      ]
     },
     "execution_count": 14,
     "metadata": {},
     "output_type": "execute_result"
    }
   ],
   "source": [
    "myfile.read()"
   ]
  },
  {
   "cell_type": "code",
   "execution_count": 16,
   "id": "edb2f6b0",
   "metadata": {},
   "outputs": [],
   "source": [
    "contents = myfile.read()"
   ]
  },
  {
   "cell_type": "code",
   "execution_count": 17,
   "id": "6953d493",
   "metadata": {},
   "outputs": [
    {
     "data": {
      "text/plain": [
       "''"
      ]
     },
     "execution_count": 17,
     "metadata": {},
     "output_type": "execute_result"
    }
   ],
   "source": [
    "contents"
   ]
  },
  {
   "cell_type": "code",
   "execution_count": 18,
   "id": "3ec52912",
   "metadata": {},
   "outputs": [
    {
     "data": {
      "text/plain": [
       "0"
      ]
     },
     "execution_count": 18,
     "metadata": {},
     "output_type": "execute_result"
    }
   ],
   "source": [
    "myfile.seek(0)"
   ]
  },
  {
   "cell_type": "code",
   "execution_count": 19,
   "id": "2449f49c",
   "metadata": {},
   "outputs": [
    {
     "data": {
      "text/plain": [
       "''"
      ]
     },
     "execution_count": 19,
     "metadata": {},
     "output_type": "execute_result"
    }
   ],
   "source": [
    "contents"
   ]
  },
  {
   "cell_type": "code",
   "execution_count": 20,
   "id": "83591146",
   "metadata": {},
   "outputs": [],
   "source": [
    "contents = myfile.read()"
   ]
  },
  {
   "cell_type": "code",
   "execution_count": 21,
   "id": "5544ec3e",
   "metadata": {},
   "outputs": [
    {
     "data": {
      "text/plain": [
       "'Hello this is a text file\\nthis is the second line \\nthis is the third line \\n'"
      ]
     },
     "execution_count": 21,
     "metadata": {},
     "output_type": "execute_result"
    }
   ],
   "source": [
    "contents"
   ]
  },
  {
   "cell_type": "markdown",
   "id": "ec3c5897",
   "metadata": {},
   "source": [
    "Si queremos tener una lista donde cada elemento sea una línea en forma de string del archivo de texto real."
   ]
  },
  {
   "cell_type": "code",
   "execution_count": 22,
   "id": "120986b0",
   "metadata": {},
   "outputs": [
    {
     "data": {
      "text/plain": [
       "[]"
      ]
     },
     "execution_count": 22,
     "metadata": {},
     "output_type": "execute_result"
    }
   ],
   "source": [
    "myfile.readlines()"
   ]
  },
  {
   "cell_type": "code",
   "execution_count": 23,
   "id": "46786b9e",
   "metadata": {},
   "outputs": [
    {
     "data": {
      "text/plain": [
       "0"
      ]
     },
     "execution_count": 23,
     "metadata": {},
     "output_type": "execute_result"
    }
   ],
   "source": [
    "myfile.seek(0)"
   ]
  },
  {
   "cell_type": "code",
   "execution_count": 24,
   "id": "d3901182",
   "metadata": {},
   "outputs": [
    {
     "data": {
      "text/plain": [
       "['Hello this is a text file\\n',\n",
       " 'this is the second line \\n',\n",
       " 'this is the third line \\n']"
      ]
     },
     "execution_count": 24,
     "metadata": {},
     "output_type": "execute_result"
    }
   ],
   "source": [
    "myfile.readlines()"
   ]
  },
  {
   "cell_type": "code",
   "execution_count": 25,
   "id": "26dd8d8a",
   "metadata": {},
   "outputs": [
    {
     "data": {
      "text/plain": [
       "0"
      ]
     },
     "execution_count": 25,
     "metadata": {},
     "output_type": "execute_result"
    }
   ],
   "source": [
    "myfile.seek(0)"
   ]
  },
  {
   "cell_type": "code",
   "execution_count": 26,
   "id": "cac00678",
   "metadata": {},
   "outputs": [],
   "source": [
    "my_list_file = myfile.readlines()"
   ]
  },
  {
   "cell_type": "code",
   "execution_count": 27,
   "id": "1e15154c",
   "metadata": {},
   "outputs": [
    {
     "data": {
      "text/plain": [
       "'this is the second line \\n'"
      ]
     },
     "execution_count": 27,
     "metadata": {},
     "output_type": "execute_result"
    }
   ],
   "source": [
    "my_list_file[1]"
   ]
  },
  {
   "cell_type": "markdown",
   "id": "17428afb",
   "metadata": {},
   "source": [
    "Para cerrar los archivos que estemos trabajando usamos close() esto se hace para evitar errores y python mantenga abierto el archivo."
   ]
  },
  {
   "cell_type": "code",
   "execution_count": 28,
   "id": "e29c7af2",
   "metadata": {},
   "outputs": [],
   "source": [
    "myfile.close()"
   ]
  },
  {
   "cell_type": "markdown",
   "id": "0a3d4993",
   "metadata": {},
   "source": [
    "Para evitar errores también podemos usar la declareción especial with."
   ]
  },
  {
   "cell_type": "code",
   "execution_count": 29,
   "id": "9f133e42",
   "metadata": {},
   "outputs": [],
   "source": [
    "with open('myfile.txt') as my_new_file:\n",
    "    contents = my_new_file.read()"
   ]
  },
  {
   "cell_type": "markdown",
   "id": "2b5f2a48",
   "metadata": {},
   "source": [
    "Al hacerlo con with nos evitamos tener que cerrarlo manualmente "
   ]
  },
  {
   "cell_type": "code",
   "execution_count": 30,
   "id": "69bb80b5",
   "metadata": {},
   "outputs": [
    {
     "data": {
      "text/plain": [
       "'Hello this is a text file\\nthis is the second line \\nthis is the third line \\n'"
      ]
     },
     "execution_count": 30,
     "metadata": {},
     "output_type": "execute_result"
    }
   ],
   "source": [
    "contents"
   ]
  },
  {
   "cell_type": "markdown",
   "id": "2e0dde5d",
   "metadata": {},
   "source": [
    "## Escribir un archivo o sobre escribirlo "
   ]
  },
  {
   "cell_type": "code",
   "execution_count": 31,
   "id": "ca9bbc10",
   "metadata": {},
   "outputs": [],
   "source": [
    "with open('myfile.txt',mode='r') as myfile:\n",
    "    contents = myfile.read()"
   ]
  },
  {
   "cell_type": "markdown",
   "id": "1e5b9994",
   "metadata": {},
   "source": [
    "## Reading, Writing, Appending Modes\n",
    "\n",
    " mode = 'r' is read only\n",
    " mode = 'w' is write only(will overwrite file or create new)\n",
    " mode = 'a' is append only (will add on to files)\n",
    " mode = 'r+' is reading and writing \n",
    " mode = 'w+' is writing and reading (overwrite existing file or creates a new file)"
   ]
  },
  {
   "cell_type": "code",
   "execution_count": 32,
   "id": "bb53d9f9",
   "metadata": {},
   "outputs": [
    {
     "name": "stdout",
     "output_type": "stream",
     "text": [
      "Writing my_new_file.txt\n"
     ]
    }
   ],
   "source": [
    "%%writefile my_new_file.txt\n",
    "ONE ON FIRST\n",
    "TWO ON SECOND\n",
    "THREE ON THIRD"
   ]
  },
  {
   "cell_type": "code",
   "execution_count": 34,
   "id": "2bb30d30",
   "metadata": {},
   "outputs": [
    {
     "name": "stdout",
     "output_type": "stream",
     "text": [
      "ONE ON FIRST\n",
      "TWO ON SECOND\n",
      "THREE ON THIRD\n",
      "\n"
     ]
    }
   ],
   "source": [
    "with open('my_new_file.txt',mode ='r') as f:\n",
    "    print(f.read())"
   ]
  },
  {
   "cell_type": "markdown",
   "id": "a17f59ff",
   "metadata": {},
   "source": [
    "Para agregar una linea a este archivo 'a' , en este caso el cursor va a esstar al final del archivo y va a agregar esta línea."
   ]
  },
  {
   "cell_type": "code",
   "execution_count": 35,
   "id": "86bf94c6",
   "metadata": {},
   "outputs": [],
   "source": [
    "with open('my_new_file.txt',mode = 'a') as f:\n",
    "    f.write('Esta es la nueva linea ques estamos agregando al fichero FOUR ON FOURTH')"
   ]
  },
  {
   "cell_type": "code",
   "execution_count": 37,
   "id": "cdc3d31f",
   "metadata": {},
   "outputs": [
    {
     "name": "stdout",
     "output_type": "stream",
     "text": [
      "ONE ON FIRST\n",
      "TWO ON SECOND\n",
      "THREE ON THIRD\n",
      "Esta es la nueva linea ques estamos agregando al fichero FOUR ON FOURTH\n"
     ]
    }
   ],
   "source": [
    "with open('my_new_file.txt',mode ='r') as f:\n",
    "    print(f.read())"
   ]
  },
  {
   "cell_type": "code",
   "execution_count": 38,
   "id": "a7d017fd",
   "metadata": {},
   "outputs": [],
   "source": [
    "with open('dvgertyyuusnnx.txt',mode = 'w') as f:\n",
    "    f.write('I CREATE A NEW FILE ')"
   ]
  },
  {
   "cell_type": "code",
   "execution_count": 39,
   "id": "116c1c92",
   "metadata": {},
   "outputs": [
    {
     "name": "stdout",
     "output_type": "stream",
     "text": [
      "I CREATE A NEW FILE \n"
     ]
    }
   ],
   "source": [
    "with open('dvgertyyuusnnx.txt',mode = 'r') as f:\n",
    "    print(f.read())"
   ]
  },
  {
   "cell_type": "code",
   "execution_count": null,
   "id": "f94310e9",
   "metadata": {},
   "outputs": [],
   "source": []
  }
 ],
 "metadata": {
  "kernelspec": {
   "display_name": "Python 3 (ipykernel)",
   "language": "python",
   "name": "python3"
  },
  "language_info": {
   "codemirror_mode": {
    "name": "ipython",
    "version": 3
   },
   "file_extension": ".py",
   "mimetype": "text/x-python",
   "name": "python",
   "nbconvert_exporter": "python",
   "pygments_lexer": "ipython3",
   "version": "3.11.4"
  }
 },
 "nbformat": 4,
 "nbformat_minor": 5
}
